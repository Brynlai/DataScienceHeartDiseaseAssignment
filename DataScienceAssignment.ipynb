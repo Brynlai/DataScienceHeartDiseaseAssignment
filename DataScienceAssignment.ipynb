{
  "cells": [
    {
      "cell_type": "markdown",
      "metadata": {
        "colab_type": "text",
        "id": "view-in-github"
      },
      "source": [
        "<a href=\"https://colab.research.google.com/github/Brynlai/DataScienceHeartDiseaseAssignment/blob/Bryan/DataScienceAssignment.ipynb\" target=\"_parent\"><img src=\"https://colab.research.google.com/assets/colab-badge.svg\" alt=\"Open In Colab\"/></a>"
      ]
    },
    {
      "cell_type": "code",
      "execution_count": 1,
      "metadata": {
        "colab": {
          "base_uri": "https://localhost:8080/"
        },
        "collapsed": true,
        "id": "rQJYLjk7o-mg",
        "outputId": "b11b6b65-2e74-43f4-b239-603fa6644cfa"
      },
      "outputs": [
        {
          "ename": "NameError",
          "evalue": "name 'heart_disease' is not defined",
          "output_type": "error",
          "traceback": [
            "\u001b[1;31m---------------------------------------------------------------------------\u001b[0m",
            "\u001b[1;31mNameError\u001b[0m                                 Traceback (most recent call last)",
            "Cell \u001b[1;32mIn[1], line 13\u001b[0m\n\u001b[0;32m      9\u001b[0m \u001b[38;5;66;03m# CHANGING\u001b[39;00m\n\u001b[0;32m     10\u001b[0m \u001b[38;5;66;03m# Fetch dataset\u001b[39;00m\n\u001b[0;32m     11\u001b[0m heart_disease_bunch \u001b[38;5;241m=\u001b[39m fetch_ucirepo(\u001b[38;5;28mid\u001b[39m\u001b[38;5;241m=\u001b[39m\u001b[38;5;241m45\u001b[39m)\n\u001b[1;32m---> 13\u001b[0m \u001b[38;5;28mprint\u001b[39m(\u001b[43mheart_disease\u001b[49m)\n",
            "\u001b[1;31mNameError\u001b[0m: name 'heart_disease' is not defined"
          ]
        }
      ],
      "source": [
        "\n",
        "import pandas as pd\n",
        "import numpy as np\n",
        "import matplotlib.pyplot as plt\n",
        "import seaborn as sns\n",
        "from ucimlrepo import fetch_ucirepo\n",
        "from IPython.display import display, HTML\n",
        "from scipy.stats import zscore\n",
        "\n",
        "# CHANGING\n",
        "# Fetch dataset\n",
        "heart_disease_bunch = fetch_ucirepo(id=45)\n",
        "\n",
        "print(heart_disease_bunch)"
      ]
    },
    {
      "cell_type": "code",
      "execution_count": null,
      "metadata": {
        "colab": {
          "base_uri": "https://localhost:8080/"
        },
        "id": "gC6_zKXU8MPa",
        "outputId": "4824cee6-b877-48b4-fe64-cff6dbf2dd8d"
      },
      "outputs": [],
      "source": [
        "heart_disease = pd.DataFrame(data=heart_disease_bunch.data.features,\n",
        "                             columns=heart_disease_bunch.data.feature_names,\n",
        "                             index=heart_disease_bunch.data.ids)\n",
        "\n",
        "heart_disease = pd.concat([heart_disease, heart_disease_bunch.data.targets], axis=1)\n",
        "df = heart_disease\n",
        "print(df.info())\n",
        "df = df.rename(columns={'num': 'target'})\n",
        "print(df.head())\n",
        "print(df.shape)"
      ]
    },
    {
      "cell_type": "code",
      "execution_count": null,
      "metadata": {
        "colab": {
          "base_uri": "https://localhost:8080/"
        },
        "id": "DzHjMHGZ7tMC",
        "outputId": "9d851b2a-7aaa-4cc1-930d-f8d81d9cffb3"
      },
      "outputs": [],
      "source": [
        "# Create a pandas DataFrame from the features and target variable\n",
        "# df has rows and columns neatly of the data set\n",
        "# df = pd.concat([pd.DataFrame(heart_disease.data.features), pd.DataFrame(heart_disease.data.targets, columns=['target'])], axis=1)\n",
        "print(\"------ Original df: \",df.head(5))\n",
        "\n",
        "# Check the data type of the target column\n",
        "print(\"Data type of target column:\", df.target.dtype) # Use heart_disease instead of df\n",
        "\n",
        "# If it's not a numerical type (e.g., object), convert it\n",
        "if not pd.api.types.is_numeric_dtype(df['target']): # Use heart_disease instead of df\n",
        "  # Assuming the target values represent categories (0 or 1)\n",
        "  df['target'] = pd.to_numeric(df['target']) # Use heart_disease instead of df\n",
        "\n",
        "# print(\"------ Transformed df (if necessary): \",df.head(5))\n",
        "\n",
        "column_names = {\n",
        "    \"age\": \"Age\",\n",
        "    \"sex\": \"Gender\",\n",
        "    \"cp\": \"ChestPainType\",\n",
        "    \"trestbps\": \"RestingBP\",\n",
        "    \"chol\": \"SerumCholesterol\",\n",
        "    \"fbs\": \"FastingBloodSugar\",\n",
        "    \"restecg\": \"RestingECG\",\n",
        "    \"thalach\": \"MaxHeartRate\",\n",
        "    \"exang\": \"ExerciseAngina\",\n",
        "    \"oldpeak\": \"OldPeak\",\n",
        "    \"slope\": \"ExerciseSlope\",\n",
        "    \"ca\": \"MajorVessels\",\n",
        "    \"thal\": \"ThalliumStress\",\n",
        "    \"target\": \"HeartDisease\"\n",
        "}\n",
        "df.rename(columns=column_names, inplace=True) # Use heart_disease instead of df\n",
        "print(\"------- Renamed df:\",df) # Use heart_disease instead of df"
      ]
    },
    {
      "cell_type": "code",
      "execution_count": null,
      "metadata": {
        "colab": {
          "base_uri": "https://localhost:8080/"
        },
        "collapsed": true,
        "id": "MU6u-WIPrR6O",
        "outputId": "df38ffff-a38f-4c8b-91ee-8755cd4b357d"
      },
      "outputs": [],
      "source": [
        "print(\"------- Renamed df:\",df.head(5))\n",
        "# Export the entire DataFrame to a CSV file (including all rows and columns)\n",
        "# df.to_csv('heart_disease_full.csv', index=False)"
      ]
    },
    {
      "cell_type": "code",
      "execution_count": null,
      "metadata": {
        "colab": {
          "base_uri": "https://localhost:8080/"
        },
        "id": "tq7RfCny6guS",
        "outputId": "f736e95d-958c-496b-9e1b-12d13cc8c553"
      },
      "outputs": [],
      "source": [
        "print(df.describe())"
      ]
    },
    {
      "cell_type": "code",
      "execution_count": null,
      "metadata": {
        "colab": {
          "base_uri": "https://localhost:8080/"
        },
        "id": "AtzvYm_rSZOB",
        "outputId": "16615e9c-d815-4216-ac85-130152bc3ac7"
      },
      "outputs": [],
      "source": [
        "# DATA CLEANING : Dealing with duplicate observation\n",
        "# Check for any duplicate observation\n",
        "duplicate_rows = df.duplicated()\n",
        "print(\"Number of duplicate rows before:\", duplicate_rows.sum())\n",
        "\n",
        "# Remove duplicate rows\n",
        "df = df.drop_duplicates()\n",
        "\n",
        "# Check for duplicate rows again\n",
        "duplicate_rows = df.duplicated()\n",
        "print(\"Number of duplicate rows after:\", duplicate_rows.sum())"
      ]
    },
    {
      "cell_type": "code",
      "execution_count": null,
      "metadata": {
        "colab": {
          "base_uri": "https://localhost:8080/"
        },
        "id": "rTxsFBhESeN5",
        "outputId": "7dc7a2cf-f8dc-4c76-98cd-fb5563e70746"
      },
      "outputs": [],
      "source": [
        "# DATA CLEANING : Handling missing values\n",
        "# Check for missing values in each column\n",
        "missing_values = df.isnull().sum()\n",
        "\n",
        "print(\"Missing values in each column:\")\n",
        "print(missing_values)\n",
        "\n",
        "# Replace missing values with the median of each column\n",
        "df = df.fillna(df.median())\n",
        "\n",
        "# Check if there are any missing values left\n",
        "missing_values_after = df.isnull().sum()\n",
        "\n",
        "print(\"Missing values after replacing with medians:\")\n",
        "print(missing_values_after)"
      ]
    },
    {
      "cell_type": "code",
      "execution_count": null,
      "metadata": {
        "colab": {
          "base_uri": "https://localhost:8080/",
          "height": 733
        },
        "id": "MMqU1E4tSjMZ",
        "outputId": "e625cffb-3877-4eb1-d2eb-d261bdeaed56"
      },
      "outputs": [],
      "source": [
        "# DATA CLEANING : dealing with outliers\n",
        "# Calculate IQR for each column\n",
        "Q1 = df.quantile(0.25)\n",
        "Q3 = df.quantile(0.75)\n",
        "IQR = Q3 - Q1\n",
        "\n",
        "# Identify outliers\n",
        "outliers = ((df < (Q1 - 1.5 * IQR)) | (df > (Q3 + 1.5 * IQR))).sum()\n",
        "\n",
        "print(\"Number of outliers in each column:\")\n",
        "print(outliers)\n",
        "\n",
        "# Visualize outliers with boxplots\n",
        "plt.figure(figsize=(10, 5))\n",
        "sns.boxplot(data=df)\n",
        "plt.xticks(rotation=45)\n",
        "plt.title('Boxplots for detecting outliers in each column')\n",
        "plt.show()"
      ]
    },
    {
      "cell_type": "code",
      "execution_count": null,
      "metadata": {
        "colab": {
          "base_uri": "https://localhost:8080/"
        },
        "id": "rH3waun9SrOB",
        "outputId": "01e3a2a4-09d8-4e5d-d00a-81d53c4b684f"
      },
      "outputs": [],
      "source": [
        "# DATA CLEANING : dealing with outliers\n",
        "# Identify outliers\n",
        "outlier_mask = (df < (Q1 - 1.5 * IQR)) | (df > (Q3 + 1.5 * IQR))\n",
        "\n",
        "# Debug: Print the first few rows of the outlier mask\n",
        "print(\"Outlier Mask (first few rows):\")\n",
        "print(outlier_mask.head())\n",
        "\n",
        "# Impute outliers with the median of each column\n",
        "for column in df.columns:\n",
        "    if df[column].dtype in [np.int64, np.float64]:  # Check if the column is numerical\n",
        "        is_outlier = outlier_mask[column]\n",
        "        if is_outlier.any():\n",
        "            median_value = df[column].median()\n",
        "            df.loc[is_outlier, column] = median_value\n",
        "            print(f\"Replaced outliers in column '{column}' with median value {median_value}\")\n",
        "\n",
        "# Check the DataFrame after imputation\n",
        "print(\"Data after imputing outliers:\")\n",
        "print(df.head())\n",
        "\n",
        "# Verify if there are any remaining outliers\n",
        "remaining_outliers = ((df < (Q1 - 1.5 * IQR)) | (df > (Q3 + 1.5 * IQR))).sum()\n",
        "print(\"Remaining outliers in each column after imputation:\")\n",
        "print(remaining_outliers)\n"
      ]
    },
    {
      "cell_type": "code",
      "execution_count": null,
      "metadata": {
        "colab": {
          "base_uri": "https://localhost:8080/",
          "height": 460
        },
        "id": "Ln2rbENaS7Eg",
        "outputId": "bd9007d9-186c-4f1c-d218-d608ee1388b0"
      },
      "outputs": [],
      "source": [
        "# DATA CLEANING : dealing with outliers\n",
        "# Visualize outliers with boxplots after outliers have been imputed with median values\n",
        "plt.figure(figsize=(10, 5))\n",
        "sns.boxplot(data=df)\n",
        "plt.xticks(rotation=45)\n",
        "plt.title('Boxplots after imputing outliers with median in each column')\n",
        "plt.show()\n",
        "df.shape"
      ]
    },
    {
      "cell_type": "markdown",
      "metadata": {
        "id": "T9fk3LhOS-Kc"
      },
      "source": [
        "There exists an outlier in MaxHeartRate variable, but it also lies on where the left whisker ends, which is the minimum value. Thus we leave it as is and consider it as not an outlier, since removing it would distort the data."
      ]
    }
  ],
  "metadata": {
    "colab": {
      "include_colab_link": true,
      "provenance": [],
      "toc_visible": true
    },
    "kernelspec": {
      "display_name": "Python 3",
      "name": "python3"
    },
    "language_info": {
      "name": "python"
    }
  },
  "nbformat": 4,
  "nbformat_minor": 0
}
