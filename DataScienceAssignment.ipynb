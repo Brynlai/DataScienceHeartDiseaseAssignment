{
  "nbformat": 4,
  "nbformat_minor": 0,
  "metadata": {
    "colab": {
      "provenance": [],

      "toc_visible": true,
      "include_colab_link": true
    },
    "kernelspec": {
      "name": "python3",
      "display_name": "Python 3"
    },
    "language_info": {
      "name": "python"
    }
  },
  "cells": [
    {
      "cell_type": "markdown",
      "metadata": {
        "id": "view-in-github",
        "colab_type": "text"
      },
      "source": [
        "<a href=\"https://colab.research.google.com/github/Brynlai/DataScienceHeartDiseaseAssignment/blob/Bryan/DataScienceAssignment.ipynb\" target=\"_parent\"><img src=\"https://colab.research.google.com/assets/colab-badge.svg\" alt=\"Open In Colab\"/></a>"
      ]
    },
    {
      "cell_type": "code",
      "source": [
        "# @title\n",
        "!pip install ucimlrepo\n",
        "!pip install pandas matplotlib seaborn scikit-learn\n",
        "\n",
        "import pandas as pd\n",
        "import numpy as np\n",
        "import matplotlib.pyplot as plt\n",
        "import seaborn as sns\n",
        "from ucimlrepo import fetch_ucirepo\n",
        "from IPython.display import display, HTML\n",
        "from scipy.stats import zscore\n",
        "\n",
        "# CHANGING\n",
        "# Fetch dataset\n",
        "heart_disease_bunch = fetch_ucirepo(id=45)\n",
        "\n",
        "print(heart_disease_bunch)"
      ],
      "metadata": {
        "id": "rQJYLjk7o-mg",
        "collapsed": true
      },
      "execution_count": null,
      "outputs": []
    },
    {
      "cell_type": "code",
      "source": [
        "# Load into DataFrame\n",
        "heart_disease = pd.DataFrame(data=heart_disease_bunch.data.features,\n",
        "                             columns=heart_disease_bunch.data.feature_names,\n",
        "                             index=heart_disease_bunch.data.ids)\n",
        "\n",
        "heart_disease = pd.concat([heart_disease, heart_disease_bunch.data.targets], axis=1)\n",
        "df = heart_disease\n",
        "print(df.info())\n",
        "df = df.rename(columns={'num': 'target'})\n",
        "print(df.head())\n",
        "print(df.shape)"
      ],
      "metadata": {

        "id": "gC6_zKXU8MPa"
      },
      "execution_count": null,
      "outputs": []
    },
    {
      "cell_type": "code",
      "source": [
        "# Change Name or Columns\n",
        "# Check the data type of the target column\n",
        "print(\"Data type of target column:\", df.target.dtype) # Use heart_disease instead of df\n",
        "\n",
        "# If it's not a numerical type (e.g., object), convert it\n",
        "if not pd.api.types.is_numeric_dtype(df['target']): # Use heart_disease instead of df\n",
        "  # Assuming the target values represent categories (0 or 1)\n",
        "  df['target'] = pd.to_numeric(df['target']) # Use heart_disease instead of df\n",
        "\n",
        "# print(\"------ Transformed df (if necessary): \",df.head(5))\n",
        "\n",
        "column_names = {\n",
        "    \"age\": \"Age\",\n",
        "    \"sex\": \"Gender\",\n",
        "    \"cp\": \"ChestPainType\",\n",
        "    \"trestbps\": \"RestingBP\",\n",
        "    \"chol\": \"SerumCholesterol\",\n",
        "    \"fbs\": \"FastingBloodSugar\",\n",
        "    \"restecg\": \"RestingECG\",\n",
        "    \"thalach\": \"MaxHeartRate\",\n",
        "    \"exang\": \"ExerciseAngina\",\n",
        "    \"oldpeak\": \"OldPeak\",\n",
        "    \"slope\": \"ExerciseSlope\",\n",
        "    \"ca\": \"MajorVessels\",\n",
        "    \"thal\": \"ThalliumStress\",\n",
        "    \"target\": \"HeartDisease\"\n",
        "}\n",

        "df.rename(columns=column_names, inplace=True) # Use heart_disease instead of df\n",
        "print(\"------- Renamed df:\",df) # Use heart_disease instead of df\n",
        "# Export the entire DataFrame to a CSV file (including all rows and columns)\n",
        "# df.to_csv('heart_disease_full.csv', index=False)"
      ],
      "metadata": {
        "id": "DzHjMHGZ7tMC"
      },
      "execution_count": null,
      "outputs": []
    },
    {
      "cell_type": "code",
      "source": [
        "# DATA CLEANING : Dealing with duplicate observation\n",
        "# Check for any duplicate observation\n",
        "duplicate_rows = df.duplicated()\n",
        "print(\"Number of duplicate rows before:\", duplicate_rows.sum())\n",
        "\n",
        "# Remove duplicate rows\n",
        "df = df.drop_duplicates()\n",
        "\n",
        "# Check for duplicate rows again\n",
        "duplicate_rows = df.duplicated()\n",
        "print(\"Number of duplicate rows after:\", duplicate_rows.sum())"
      ],
      "metadata": {
        "id": "AtzvYm_rSZOB"
      },
      "execution_count": null,
      "outputs": []
    },
    {
      "cell_type": "code",
      "source": [
        "# DATA CLEANING : Handling missing values\n",
        "# Check for missing values in each column\n",
        "missing_values = df.isnull().sum()\n",
        "\n",
        "print(\"Missing values in each column:\")\n",
        "print(missing_values)\n",
        "\n",
        "# Replace missing values with the median of each column\n",
        "df = df.fillna(df.median())\n",
        "\n",
        "# Check if there are any missing values left\n",
        "missing_values_after = df.isnull().sum()\n",
        "\n",
        "print(\"Missing values after replacing with medians:\")\n",
        "print(missing_values_after)"
      ],
      "metadata": {
        "id": "rTxsFBhESeN5"
      },
      "execution_count": null,
      "outputs": []
    },
    {
      "cell_type": "code",
      "source": [
        "# DATA CLEANING : dealing with outliers\n",
        "# Calculate IQR for each column\n",
        "Q1 = df.quantile(0.25)\n",
        "Q3 = df.quantile(0.75)\n",
        "IQR = Q3 - Q1\n",
        "\n",
        "# Identify outliers\n",
        "outliers = ((df < (Q1 - 1.5 * IQR)) | (df > (Q3 + 1.5 * IQR))).sum()\n",
        "\n",
        "print(\"Number of outliers in each column:\")\n",
        "print(outliers)\n",
        "\n",
        "# Visualize outliers with boxplots\n",
        "plt.figure(figsize=(10, 5))\n",
        "sns.boxplot(data=df)\n",
        "plt.xticks(rotation=45)\n",
        "plt.title('Boxplots for detecting outliers in each column')\n",
        "plt.show()"
      ],
      "metadata": {
        "id": "MMqU1E4tSjMZ"
      },
      "execution_count": null,
      "outputs": []
    },
    {
      "cell_type": "code",
      "source": [
        "# DATA CLEANING : dealing with outliers\n",
        "# Identify outliers\n",
        "outlier_mask = (df < (Q1 - 1.5 * IQR)) | (df > (Q3 + 1.5 * IQR))\n",
        "\n",
        "# Debug: Print the first few rows of the outlier mask\n",
        "print(\"Outlier Mask (first few rows):\")\n",
        "print(outlier_mask.head())\n",
        "\n",
        "# Impute outliers with the median of each column\n",
        "for column in df.columns:\n",
        "    if df[column].dtype in [np.int64, np.float64]:  # Check if the column is numerical\n",
        "        is_outlier = outlier_mask[column]\n",
        "        if is_outlier.any():\n",
        "            median_value = df[column].median()\n",
        "            df.loc[is_outlier, column] = median_value\n",
        "            print(f\"Replaced outliers in column '{column}' with median value {median_value}\")\n",
        "\n",
        "# Check the DataFrame after imputation\n",
        "print(\"Data after imputing outliers:\")\n",
        "print(df.head())\n",
        "\n",
        "# Verify if there are any remaining outliers\n",
        "remaining_outliers = ((df < (Q1 - 1.5 * IQR)) | (df > (Q3 + 1.5 * IQR))).sum()\n",
        "print(\"Remaining outliers in each column after imputation:\")\n",
        "print(remaining_outliers)\n"
      ],
      "metadata": {

        "id": "rH3waun9SrOB"
      },
      "execution_count": null,
      "outputs": []
    },
    {
      "cell_type": "code",
      "source": [
        "# DATA CLEANING : dealing with outliers\n",
        "# Visualize outliers with boxplots after outliers have been imputed with median values\n",
        "plt.figure(figsize=(10, 5))\n",
        "sns.boxplot(data=df)\n",
        "plt.xticks(rotation=45)\n",
        "plt.title('Boxplots after imputing outliers with median in each column')\n",
        "plt.show()"
      ],
      "metadata": {
        "id": "Ln2rbENaS7Eg"
      },
      "execution_count": null,
      "outputs": []
    },
    {
      "cell_type": "markdown",
      "source": [
        "There exists an outlier in MaxHeartRate variable, but it also lies on where the left whisker ends, which is the minimum value. Thus we leave it as is and consider it as not an outlier, since removing it would distort the data."
      ],
      "metadata": {
        "id": "T9fk3LhOS-Kc"
      }
    }
  ]
}